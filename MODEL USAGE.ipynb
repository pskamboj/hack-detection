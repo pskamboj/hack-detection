{
 "cells": [
  {
   "cell_type": "code",
   "execution_count": 1,
   "id": "e1d18953",
   "metadata": {},
   "outputs": [],
   "source": [
    "import joblib\n",
    "import numpy as np\n",
    "import pandas as pd"
   ]
  },
  {
   "cell_type": "code",
   "execution_count": 2,
   "id": "74b2bec2",
   "metadata": {},
   "outputs": [
    {
     "name": "stderr",
     "output_type": "stream",
     "text": [
      "E:\\python\\Lib\\site-packages\\sklearn\\base.py:329: UserWarning: Trying to unpickle estimator DecisionTreeClassifier from version 1.1.1 when using version 1.1.3. This might lead to breaking code or invalid results. Use at your own risk. For more info please refer to:\n",
      "https://scikit-learn.org/stable/model_persistence.html#security-maintainability-limitations\n",
      "  warnings.warn(\n",
      "E:\\python\\Lib\\site-packages\\sklearn\\base.py:329: UserWarning: Trying to unpickle estimator RandomForestClassifier from version 1.1.1 when using version 1.1.3. This might lead to breaking code or invalid results. Use at your own risk. For more info please refer to:\n",
      "https://scikit-learn.org/stable/model_persistence.html#security-maintainability-limitations\n",
      "  warnings.warn(\n"
     ]
    }
   ],
   "source": [
    "hacking=pd.read_csv(\"detector.csv\")\n",
    "model=joblib.load('HACK_DETECTION')"
   ]
  },
  {
   "cell_type": "code",
   "execution_count": 3,
   "id": "9dd71b91",
   "metadata": {},
   "outputs": [],
   "source": [
    "X=hacking.drop('CLASS',axis=1)\n",
    "from sklearn.decomposition import PCA\n",
    "pca1=PCA(n_components=4)\n",
    "pca_fit=pca1.fit_transform(X)"
   ]
  },
  {
   "cell_type": "code",
   "execution_count": 4,
   "id": "a8d460ff",
   "metadata": {},
   "outputs": [],
   "source": [
    "import time\n",
    "import psutil\n",
    "import datetime,openpyxl\n",
    "import math"
   ]
  },
  {
   "cell_type": "code",
   "execution_count": 5,
   "id": "3dcdddbe",
   "metadata": {},
   "outputs": [
    {
     "name": "stdout",
     "output_type": "stream",
     "text": [
      "0.171\n",
      "0.214\n",
      "0.043\n",
      "\n",
      " 163\n"
     ]
    }
   ],
   "source": [
    "a=(psutil.cpu_percent())/100\n",
    "print(\"%.3f\" % a)\n",
    "b=(psutil.virtual_memory().percent)/100\n",
    "print(b)\n",
    "c=np.subtract(b,a)\n",
    "print(\"%.3f\" %c)\n",
    "d=0\n",
    "for process in psutil.process_iter ():\n",
    "    d=d+1\n",
    "print(\"\\n\",d)\n"
   ]
  },
  {
   "cell_type": "code",
   "execution_count": 6,
   "id": "c6ad0e92",
   "metadata": {},
   "outputs": [
    {
     "name": "stdout",
     "output_type": "stream",
     "text": [
      "[['0.171', '0.214', '0.043', 163]]\n"
     ]
    },
    {
     "name": "stderr",
     "output_type": "stream",
     "text": [
      "E:\\python\\Lib\\site-packages\\sklearn\\base.py:450: UserWarning: X does not have valid feature names, but PCA was fitted with feature names\n",
      "  warnings.warn(\n"
     ]
    }
   ],
   "source": [
    "#features=([[0.624,0.724,0.100,234]])\n",
    "features = ([[\"%.3f\" % a,\"%.3f\" %b,\"%.3f\" %c,d]])\n",
    "print(features)\n",
    "p=model.predict(pca1.transform(features))"
   ]
  },
  {
   "cell_type": "code",
   "execution_count": 7,
   "id": "137d3f0f",
   "metadata": {},
   "outputs": [
    {
     "name": "stdout",
     "output_type": "stream",
     "text": [
      "not hacked\n"
     ]
    }
   ],
   "source": [
    "if p[0]==1:\n",
    "    print('hacked')\n",
    "else:\n",
    "    print('not hacked')"
   ]
  },
  {
   "cell_type": "code",
   "execution_count": null,
   "id": "c97a00cd",
   "metadata": {},
   "outputs": [],
   "source": []
  }
 ],
 "metadata": {
  "kernelspec": {
   "display_name": "Python 3 (ipykernel)",
   "language": "python",
   "name": "python3"
  },
  "language_info": {
   "codemirror_mode": {
    "name": "ipython",
    "version": 3
   },
   "file_extension": ".py",
   "mimetype": "text/x-python",
   "name": "python",
   "nbconvert_exporter": "python",
   "pygments_lexer": "ipython3",
   "version": "3.11.0"
  },
  "vscode": {
   "interpreter": {
    "hash": "4833c1211c9ca1c0d759d16f3f90925cfe684a81380fe2bc9bb61ee231ba0f05"
   }
  }
 },
 "nbformat": 4,
 "nbformat_minor": 5
}
